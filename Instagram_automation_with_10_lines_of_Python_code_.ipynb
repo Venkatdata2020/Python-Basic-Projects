{
  "nbformat": 4,
  "nbformat_minor": 0,
  "metadata": {
    "colab": {
      "name": "Instagram automation with 10 lines of Python code .ipynb",
      "provenance": [],
      "collapsed_sections": []
    },
    "kernelspec": {
      "name": "python3",
      "display_name": "Python 3"
    }
  },
  "cells": [
    {
      "cell_type": "code",
      "metadata": {
        "id": "5MG0ZFQYE5sv"
      },
      "source": [
        "# Install necessary libraries\r\n",
        "!pip install instabot"
      ],
      "execution_count": null,
      "outputs": []
    },
    {
      "cell_type": "code",
      "metadata": {
        "id": "L4cxJEc9GToM"
      },
      "source": [
        "from instabot import Bot\r\n",
        "bot = Bot()\r\n",
        "bot.login(username=\"XXXXX\",password=\"XXXXX\")   # XXXXX represents Instagram user name and Password \r\n",
        "bot.upload_photo(\"xxx.png\", caption=\" XXXXX \")  # XXX represents file names XXXXX mean title\r\n",
        "bot.follow(\"Name of the person\")  \r\n",
        "bot.send_message(\" Hi, How are you \",['Name of the person','Name of the person'])\r\n",
        "# Print the name of the followers\r\n",
        "followers = bot.get_user_followers(\"XXXXX\")  # XXXXX name of the persons you want to know the followers\r\n",
        "for follower in followers:\r\n",
        "  print(bot.get_user_info(follower))\r\n"
      ],
      "execution_count": null,
      "outputs": []
    },
    {
      "cell_type": "code",
      "metadata": {
        "id": "Nt9IUmijHQDK"
      },
      "source": [
        ""
      ],
      "execution_count": null,
      "outputs": []
    }
  ]
}
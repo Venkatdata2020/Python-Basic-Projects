{
  "nbformat": 4,
  "nbformat_minor": 0,
  "metadata": {
    "colab": {
      "name": "Python Program to Check Armstrong Number.ipynb",
      "provenance": []
    },
    "kernelspec": {
      "name": "python3",
      "display_name": "Python 3"
    }
  },
  "cells": [
    {
      "cell_type": "code",
      "metadata": {
        "colab": {
          "base_uri": "https://localhost:8080/"
        },
        "id": "bx_TiYnI5tQo",
        "outputId": "69c2afe8-6276-478e-9134-a2850fc058a2"
      },
      "source": [
        "# Python program to check if the number is an Armstrong number or not\r\n",
        "\r\n",
        "# take input from the user\r\n",
        "num = int(input(\"Enter a number: \"))\r\n",
        "\r\n",
        "# initialize sum\r\n",
        "sum = 0\r\n",
        "\r\n",
        "# find the sum of the cube of each digit\r\n",
        "temp = num\r\n",
        "while temp > 0:\r\n",
        "   digit = temp % 10\r\n",
        "   sum += digit ** 3\r\n",
        "   temp //= 10\r\n",
        "\r\n",
        "# display the result\r\n",
        "if num == sum:\r\n",
        "   print(num,\"is an Armstrong number\")\r\n",
        "else:\r\n",
        "   print(num,\"is not an Armstrong number\")"
      ],
      "execution_count": 1,
      "outputs": [
        {
          "output_type": "stream",
          "text": [
            "Enter a number: 153\n",
            "153 is an Armstrong number\n"
          ],
          "name": "stdout"
        }
      ]
    },
    {
      "cell_type": "code",
      "metadata": {
        "colab": {
          "base_uri": "https://localhost:8080/"
        },
        "id": "iEAwr05J8ZaU",
        "outputId": "71c669d9-03bd-4d60-b67c-0c0f14651352"
      },
      "source": [
        "num = 1634\r\n",
        "\r\n",
        "# Changed num variable to string, \r\n",
        "# and calculated the length (number of digits)\r\n",
        "order = len(str(num))\r\n",
        "\r\n",
        "# initialize sum\r\n",
        "sum = 0\r\n",
        "\r\n",
        "# find the sum of the cube of each digit\r\n",
        "temp = num\r\n",
        "while temp > 0:\r\n",
        "   digit = temp % 10\r\n",
        "   sum += digit ** order\r\n",
        "   temp //= 10\r\n",
        "\r\n",
        "# display the result\r\n",
        "if num == sum:\r\n",
        "   print(num,\"is an Armstrong number\")\r\n",
        "else:\r\n",
        "   print(num,\"is not an Armstrong number\")"
      ],
      "execution_count": 2,
      "outputs": [
        {
          "output_type": "stream",
          "text": [
            "1634 is an Armstrong number\n"
          ],
          "name": "stdout"
        }
      ]
    },
    {
      "cell_type": "code",
      "metadata": {
        "id": "MXcy9i56841W"
      },
      "source": [
        ""
      ],
      "execution_count": null,
      "outputs": []
    }
  ]
}
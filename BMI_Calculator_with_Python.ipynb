{
  "nbformat": 4,
  "nbformat_minor": 0,
  "metadata": {
    "colab": {
      "name": "BMI Calculator with Python.ipynb",
      "provenance": []
    },
    "kernelspec": {
      "name": "python3",
      "display_name": "Python 3"
    }
  },
  "cells": [
    {
      "cell_type": "markdown",
      "metadata": {
        "id": "-Lg9txtSHTpP"
      },
      "source": [
        ""
      ]
    },
    {
      "cell_type": "code",
      "metadata": {
        "id": "Vq1dPeJvHmFy"
      },
      "source": [
        "#The body mass index is calculated by dividing an individual’s weight in kilograms \r\n",
        "#by their height in meters, then dividing the answer again by their height. \r\n",
        "#Now let’s see how to create a BMI calculator with Python:"
      ],
      "execution_count": 8,
      "outputs": []
    },
    {
      "cell_type": "code",
      "metadata": {
        "colab": {
          "base_uri": "https://localhost:8080/"
        },
        "id": "-kTr3d6eHKFy",
        "outputId": "aa863356-8de9-4fbc-f621-10a7b3e19b98"
      },
      "source": [
        "Height=float(input(\"Enter your height in centimeters: \"))\r\n",
        "Weight=float(input(\"Enter your Weight in Kg: \"))\r\n",
        "Height = Height/100\r\n",
        "BMI=Weight/(Height*Height)\r\n",
        "print(\"your Body Mass Index is: \",BMI)\r\n",
        "if(BMI>0):\r\n",
        "\tif(BMI<=16):\r\n",
        "\t\tprint(\"you are severely underweight\")\r\n",
        "\telif(BMI<=18.5):\r\n",
        "\t\tprint(\"you are underweight\")\r\n",
        "\telif(BMI<=25):\r\n",
        "\t\tprint(\"you are Healthy\")\r\n",
        "\telif(BMI<=30):\r\n",
        "\t\tprint(\"you are overweight\")\r\n",
        "\telse: print(\"you are severely overweight\")\r\n",
        "else:(\"enter valid details\")"
      ],
      "execution_count": 7,
      "outputs": [
        {
          "output_type": "stream",
          "text": [
            "Enter your height in centimeters: 170\n",
            "Enter your Weight in Kg: 50\n",
            "your Body Mass Index is:  17.301038062283737\n",
            "you are underweight\n"
          ],
          "name": "stdout"
        }
      ]
    },
    {
      "cell_type": "code",
      "metadata": {
        "id": "Vi_ADqxOHSZc"
      },
      "source": [
        ""
      ],
      "execution_count": null,
      "outputs": []
    }
  ]
}